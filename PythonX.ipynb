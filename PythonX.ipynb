{
 "cells": [
  {
   "cell_type": "markdown",
   "metadata": {},
   "source": [
    "Curso de PhytonX"
   ]
  },
  {
   "cell_type": "markdown",
   "metadata": {},
   "source": [
    "Operadores logicos\n"
   ]
  },
  {
   "cell_type": "code",
   "execution_count": 2,
   "metadata": {},
   "outputs": [
    {
     "name": "stdout",
     "output_type": "stream",
     "text": [
      "x and y is  False\n"
     ]
    }
   ],
   "source": [
    "x = True\n",
    "y = False\n",
    "print ((\"x and y is \"), x and y) \n",
    "\n"
   ]
  },
  {
   "cell_type": "code",
   "execution_count": 3,
   "metadata": {},
   "outputs": [
    {
     "name": "stdout",
     "output_type": "stream",
     "text": [
      "True\n"
     ]
    }
   ],
   "source": [
    "num1 = 5\n",
    "num2 = 8\n",
    "print(num1>num2 or num1<num2)\n"
   ]
  },
  {
   "cell_type": "code",
   "execution_count": 4,
   "metadata": {},
   "outputs": [
    {
     "name": "stdout",
     "output_type": "stream",
     "text": [
      "True\n",
      "False\n",
      "False\n"
     ]
    }
   ],
   "source": [
    "name = \"pythonx\"\n",
    "print(\"x\" in name )\n",
    "print(\"s\" in name )\n",
    "print(\"x\" not in name )"
   ]
  },
  {
   "cell_type": "code",
   "execution_count": 5,
   "metadata": {},
   "outputs": [
    {
     "name": "stdout",
     "output_type": "stream",
     "text": [
      "2450745065840\n"
     ]
    }
   ],
   "source": [
    "num = 5\n",
    "print(id(num))"
   ]
  },
  {
   "cell_type": "markdown",
   "metadata": {},
   "source": [
    "Toma de decisiones\n"
   ]
  },
  {
   "cell_type": "code",
   "execution_count": 8,
   "metadata": {},
   "outputs": [
    {
     "name": "stdout",
     "output_type": "stream",
     "text": [
      "Fail\n"
     ]
    }
   ],
   "source": [
    "note = int(input(\"Inserte la nota del estudiante\"))\n",
    "\n",
    "if note >= 90:\n",
    "    print ( \"The grade is excellent\")\n",
    "elif note < 90 and note >=75:\n",
    "    print (\" Primera clase\")\n",
    "elif note < 75 and note >= 40:\n",
    "    print( \"Promedio\")\n",
    "elif note < 40:\n",
    "    print(\"Fail\")\n",
    "\n"
   ]
  },
  {
   "cell_type": "code",
   "execution_count": 10,
   "metadata": {},
   "outputs": [
    {
     "name": "stdout",
     "output_type": "stream",
     "text": [
      "The grade is excellent\n"
     ]
    }
   ],
   "source": [
    "note = int(input(\"Inserte la nota del estudiante\"))\n",
    "\n",
    "if note >= 90:\n",
    "    print ( \"The grade is excellent\")\n",
    "else: print (\"Registra bien la nota cachón\")"
   ]
  },
  {
   "cell_type": "markdown",
   "metadata": {},
   "source": [
    "NESTED IF - ELSE Condicional "
   ]
  },
  {
   "cell_type": "code",
   "execution_count": 11,
   "metadata": {},
   "outputs": [
    {
     "name": "stdout",
     "output_type": "stream",
     "text": [
      "User not found\n"
     ]
    }
   ],
   "source": [
    "username = input(\"Enter your name\")\n",
    "password = input(\"enter your password\")\n",
    "if username == \"John\":\n",
    "    if password == \"12345\":\n",
    "        print (\"Login succesful\")\n",
    "    else: print (\"Incorrect password\")\n",
    "else: print (\"User not found\")\n"
   ]
  }
 ],
 "metadata": {
  "kernelspec": {
   "display_name": "Python 3.10.6 64-bit (windows store)",
   "language": "python",
   "name": "python3"
  },
  "language_info": {
   "codemirror_mode": {
    "name": "ipython",
    "version": 3
   },
   "file_extension": ".py",
   "mimetype": "text/x-python",
   "name": "python",
   "nbconvert_exporter": "python",
   "pygments_lexer": "ipython3",
   "version": "3.10.6"
  },
  "orig_nbformat": 4,
  "vscode": {
   "interpreter": {
    "hash": "4c2006a0b5ec732fb40f2b9b09815af6295ce20fbc1871bf38eafe2c147949e3"
   }
  }
 },
 "nbformat": 4,
 "nbformat_minor": 2
}
