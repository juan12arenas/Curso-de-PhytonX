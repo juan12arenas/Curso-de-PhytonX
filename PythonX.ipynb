{
 "cells": [
  {
   "cell_type": "markdown",
   "metadata": {},
   "source": [
    "Curso de PhytonX"
   ]
  },
  {
   "cell_type": "markdown",
   "metadata": {},
   "source": [
    "Operadores logicos\n"
   ]
  },
  {
   "cell_type": "code",
   "execution_count": 2,
   "metadata": {},
   "outputs": [
    {
     "name": "stdout",
     "output_type": "stream",
     "text": [
      "x and y is  False\n"
     ]
    }
   ],
   "source": [
    "x = True\n",
    "y = False\n",
    "print ((\"x and y is \"), x and y) \n",
    "\n"
   ]
  },
  {
   "cell_type": "code",
   "execution_count": 3,
   "metadata": {},
   "outputs": [
    {
     "name": "stdout",
     "output_type": "stream",
     "text": [
      "True\n"
     ]
    }
   ],
   "source": [
    "num1 = 5\n",
    "num2 = 8\n",
    "print(num1>num2 or num1<num2)\n"
   ]
  },
  {
   "cell_type": "code",
   "execution_count": 4,
   "metadata": {},
   "outputs": [
    {
     "name": "stdout",
     "output_type": "stream",
     "text": [
      "True\n",
      "False\n",
      "False\n"
     ]
    }
   ],
   "source": [
    "name = \"pythonx\"\n",
    "print(\"x\" in name )\n",
    "print(\"s\" in name )\n",
    "print(\"x\" not in name )"
   ]
  },
  {
   "cell_type": "code",
   "execution_count": 5,
   "metadata": {},
   "outputs": [
    {
     "name": "stdout",
     "output_type": "stream",
     "text": [
      "2450745065840\n"
     ]
    }
   ],
   "source": [
    "num = 5\n",
    "print(id(num))"
   ]
  },
  {
   "cell_type": "markdown",
   "metadata": {},
   "source": [
    "Toma de decisiones\n"
   ]
  },
  {
   "cell_type": "code",
   "execution_count": 8,
   "metadata": {},
   "outputs": [
    {
     "name": "stdout",
     "output_type": "stream",
     "text": [
      "Fail\n"
     ]
    }
   ],
   "source": [
    "note = int(input(\"Inserte la nota del estudiante\"))\n",
    "\n",
    "if note >= 90:\n",
    "    print ( \"The grade is excellent\")\n",
    "elif note < 90 and note >=75:\n",
    "    print (\" Primera clase\")\n",
    "elif note < 75 and note >= 40:\n",
    "    print( \"Promedio\")\n",
    "elif note < 40:\n",
    "    print(\"Fail\")\n",
    "\n"
   ]
  },
  {
   "cell_type": "code",
   "execution_count": 10,
   "metadata": {},
   "outputs": [
    {
     "name": "stdout",
     "output_type": "stream",
     "text": [
      "The grade is excellent\n"
     ]
    }
   ],
   "source": [
    "note = int(input(\"Inserte la nota del estudiante\"))\n",
    "\n",
    "if note >= 90:\n",
    "    print ( \"The grade is excellent\")\n",
    "else: print (\"Registra bien la nota cachón\")"
   ]
  },
  {
   "cell_type": "markdown",
   "metadata": {},
   "source": [
    "NESTED IF - ELSE Condicional "
   ]
  },
  {
   "cell_type": "code",
   "execution_count": 11,
   "metadata": {},
   "outputs": [
    {
     "name": "stdout",
     "output_type": "stream",
     "text": [
      "User not found\n"
     ]
    }
   ],
   "source": [
    "username = input(\"Enter your name\")\n",
    "password = input(\"enter your password\")\n",
    "if username == \"John\":\n",
    "    if password == \"12345\":\n",
    "        print (\"Login succesful\")\n",
    "    else: print (\"Incorrect password\")\n",
    "else: print (\"User not found\")\n"
   ]
  },
  {
   "cell_type": "markdown",
   "metadata": {},
   "source": [
    "Strings"
   ]
  },
  {
   "cell_type": "code",
   "execution_count": 1,
   "metadata": {},
   "outputs": [
    {
     "name": "stdout",
     "output_type": "stream",
     "text": [
      "hello,Juan!\n"
     ]
    }
   ],
   "source": [
    "name =input(\"Enter your name\")\n",
    "print(f\"hello,{name}!\")\n"
   ]
  },
  {
   "cell_type": "code",
   "execution_count": 2,
   "metadata": {},
   "outputs": [
    {
     "name": "stdout",
     "output_type": "stream",
     "text": [
      "Five plus ten is 15\n"
     ]
    }
   ],
   "source": [
    "num1 = 5 \n",
    "num2 = 10\n",
    "print(f\"Five plus ten is {num1 + num2}\")\n"
   ]
  },
  {
   "cell_type": "markdown",
   "metadata": {},
   "source": [
    "Accesing Values \n"
   ]
  },
  {
   "cell_type": "code",
   "execution_count": 3,
   "metadata": {},
   "outputs": [
    {
     "name": "stdout",
     "output_type": "stream",
     "text": [
      "P\n",
      "t\n"
     ]
    }
   ],
   "source": [
    "appname = \"PythonX\"\n",
    "print(appname[0])\n",
    "print(appname[2])\n"
   ]
  },
  {
   "cell_type": "markdown",
   "metadata": {},
   "source": [
    "Slicing"
   ]
  },
  {
   "cell_type": "markdown",
   "metadata": {},
   "source": []
  },
  {
   "cell_type": "code",
   "execution_count": 1,
   "metadata": {},
   "outputs": [
    {
     "name": "stdout",
     "output_type": "stream",
     "text": [
      "PythonX\n",
      "PythonX\n"
     ]
    }
   ],
   "source": [
    "appname = \"PythonX\"\n",
    "print(appname[:])\n",
    "print(appname[::])"
   ]
  },
  {
   "cell_type": "code",
   "execution_count": 2,
   "metadata": {},
   "outputs": [
    {
     "name": "stdout",
     "output_type": "stream",
     "text": [
      "PythonX\n",
      "tho\n",
      "honX\n"
     ]
    }
   ],
   "source": [
    "appname = \"PythonX\"\n",
    "print(appname[:])\n",
    "print(appname[2:5])\n",
    "print(appname[3:])"
   ]
  },
  {
   "cell_type": "code",
   "execution_count": 3,
   "metadata": {},
   "outputs": [
    {
     "name": "stdout",
     "output_type": "stream",
     "text": [
      "me\n"
     ]
    }
   ],
   "source": [
    "name = \"james\"\n",
    "print(name[2:4])\n"
   ]
  },
  {
   "cell_type": "code",
   "execution_count": 5,
   "metadata": {},
   "outputs": [
    {
     "name": "stdout",
     "output_type": "stream",
     "text": [
      "gram\n"
     ]
    }
   ],
   "source": [
    "str =\"programming\"\n",
    "print(str[3:7])\n"
   ]
  },
  {
   "cell_type": "markdown",
   "metadata": {},
   "source": [
    "Some Operations Concatenation - Repetition\n"
   ]
  },
  {
   "cell_type": "code",
   "execution_count": 7,
   "metadata": {},
   "outputs": [
    {
     "name": "stdout",
     "output_type": "stream",
     "text": [
      "John Doe\n"
     ]
    }
   ],
   "source": [
    "firstname =\"John\"\n",
    "lastname =\"Doe\"\n",
    "fullname = firstname + \" \" + lastname\n",
    "print(fullname)"
   ]
  },
  {
   "cell_type": "markdown",
   "metadata": {},
   "source": [
    "Repetition"
   ]
  },
  {
   "cell_type": "code",
   "execution_count": 25,
   "metadata": {},
   "outputs": [
    {
     "name": "stdout",
     "output_type": "stream",
     "text": [
      "John Doe\n"
     ]
    }
   ],
   "source": [
    "firstname =\"John\"\n",
    "lastname =\"Doe\"\n",
    "print(\" \".join([firstname, lastname]))"
   ]
  },
  {
   "cell_type": "markdown",
   "metadata": {},
   "source": [
    "String Repetition: Consta de repetir las lineas de comando segun sea necesario e indicado."
   ]
  },
  {
   "cell_type": "code",
   "execution_count": 36,
   "metadata": {},
   "outputs": [
    {
     "name": "stdout",
     "output_type": "stream",
     "text": [
      "PythonPython\n"
     ]
    }
   ],
   "source": [
    "str = \"Python\"\n",
    "x = str*2\n",
    "print(x)"
   ]
  },
  {
   "cell_type": "markdown",
   "metadata": {},
   "source": [
    "String Methods"
   ]
  },
  {
   "cell_type": "code",
   "execution_count": 37,
   "metadata": {},
   "outputs": [
    {
     "name": "stdout",
     "output_type": "stream",
     "text": [
      "False\n",
      "PYTHON\n",
      "python\n",
      "Aython\n"
     ]
    }
   ],
   "source": [
    "str = \"Python\"\n",
    "print(str.islower())\n",
    "print(str.upper())\n",
    "print(str.lower())\n",
    "print(str.replace(\"P\",\"A\"))"
   ]
  },
  {
   "cell_type": "code",
   "execution_count": 38,
   "metadata": {},
   "outputs": [
    {
     "name": "stdout",
     "output_type": "stream",
     "text": [
      "11\n"
     ]
    }
   ],
   "source": [
    "str=\"Love Python\"\n",
    "print(len(str))\n"
   ]
  },
  {
   "cell_type": "code",
   "execution_count": 39,
   "metadata": {},
   "outputs": [
    {
     "name": "stdout",
     "output_type": "stream",
     "text": [
      "welcome to jumanji;Again\n"
     ]
    }
   ],
   "source": [
    "message = \"welcome to jumanji\"\n",
    "print(\";\".join([message,\"Again\"]))"
   ]
  },
  {
   "cell_type": "code",
   "execution_count": 40,
   "metadata": {},
   "outputs": [
    {
     "name": "stdout",
     "output_type": "stream",
     "text": [
      "ceoun\n"
     ]
    }
   ],
   "source": [
    "message = \"welcome to jumanji\"\n",
    "print(message[3::3])"
   ]
  },
  {
   "cell_type": "markdown",
   "metadata": {},
   "source": [
    "ALL ABOUT LOOPS "
   ]
  },
  {
   "cell_type": "markdown",
   "metadata": {},
   "source": [
    "Looping : iteraciones o ejecución de un codigo multiples veces\n"
   ]
  },
  {
   "cell_type": "markdown",
   "metadata": {},
   "source": [
    "Range: devuelve la posición en un rango especificado"
   ]
  },
  {
   "cell_type": "code",
   "execution_count": 41,
   "metadata": {},
   "outputs": [
    {
     "name": "stdout",
     "output_type": "stream",
     "text": [
      "[0, 1, 2, 3, 4]\n",
      "[1, 2, 3, 4]\n",
      "[1, 3, 5, 7, 9]\n"
     ]
    }
   ],
   "source": [
    "print(list(range(5)))\n",
    "print(list(range(1,5)))\n",
    "print(list(range(1,10,2)))"
   ]
  },
  {
   "cell_type": "code",
   "execution_count": 43,
   "metadata": {},
   "outputs": [
    {
     "name": "stdout",
     "output_type": "stream",
     "text": [
      "[70, 75, 80, 85, 90, 95]\n"
     ]
    }
   ],
   "source": [
    "print(list(range(70,100,5)))"
   ]
  },
  {
   "cell_type": "markdown",
   "metadata": {},
   "source": [
    "For loop:"
   ]
  },
  {
   "cell_type": "markdown",
   "metadata": {},
   "source": [
    "for val in sequence: "
   ]
  },
  {
   "cell_type": "code",
   "execution_count": 2,
   "metadata": {},
   "outputs": [
    {
     "name": "stdout",
     "output_type": "stream",
     "text": [
      "0\n",
      "1\n",
      "2\n",
      "3\n",
      "4\n"
     ]
    }
   ],
   "source": [
    "for i in range(5):\n",
    "    print(i)"
   ]
  },
  {
   "cell_type": "code",
   "execution_count": 4,
   "metadata": {},
   "outputs": [
    {
     "name": "stdout",
     "output_type": "stream",
     "text": [
      "Python\n",
      "Python\n",
      "Python\n",
      "Python\n",
      "Python\n"
     ]
    }
   ],
   "source": [
    "for i in range(5):\n",
    "    print(\"Python\")"
   ]
  },
  {
   "cell_type": "code",
   "execution_count": 5,
   "metadata": {},
   "outputs": [
    {
     "name": "stdout",
     "output_type": "stream",
     "text": [
      "P\n",
      "y\n",
      "t\n",
      "h\n",
      "o\n",
      "n\n",
      "x\n"
     ]
    }
   ],
   "source": [
    "for i in \"Pythonx\": # permite repetir cada valor indicado\n",
    "    print(i)"
   ]
  },
  {
   "cell_type": "code",
   "execution_count": 6,
   "metadata": {},
   "outputs": [
    {
     "name": "stdout",
     "output_type": "stream",
     "text": [
      " i love python \n",
      " i love python \n",
      " i love python \n"
     ]
    }
   ],
   "source": [
    "for i in range(3):\n",
    "    print(\" i love python \")"
   ]
  },
  {
   "cell_type": "markdown",
   "metadata": {},
   "source": [
    "While Loop"
   ]
  },
  {
   "cell_type": "markdown",
   "metadata": {},
   "source": [
    "Se utilizan mediante un booleano que evalua una condición y dice si es verdadero o falso."
   ]
  },
  {
   "cell_type": "markdown",
   "metadata": {},
   "source": [
    "Break"
   ]
  },
  {
   "cell_type": "markdown",
   "metadata": {},
   "source": [
    "Se utilizan para terminar un loop en el cual se encuentra presente."
   ]
  },
  {
   "cell_type": "code",
   "execution_count": 7,
   "metadata": {},
   "outputs": [
    {
     "name": "stdout",
     "output_type": "stream",
     "text": [
      "g\n",
      "o\n",
      "o\n",
      "d\n"
     ]
    }
   ],
   "source": [
    "str = \"goodmorning\"\n",
    "for i in str:\n",
    "    if i == \"m\":\n",
    "        break\n",
    "    else:\n",
    "        print(i)"
   ]
  },
  {
   "cell_type": "code",
   "execution_count": 15,
   "metadata": {},
   "outputs": [
    {
     "name": "stdout",
     "output_type": "stream",
     "text": [
      "continue accepting 0\n",
      "continue accepting 10\n",
      "continue accepting 20\n",
      "50% capacity reached\n"
     ]
    }
   ],
   "source": [
    "n = 40\n",
    "threshold = n*(50/100)\n",
    "for i in range(0,n,10):\n",
    "    if i > threshold:\n",
    "        print(\"50% capacity reached\")\n",
    "        break\n",
    "    else:\n",
    "        print(\"continue accepting\",i)"
   ]
  },
  {
   "cell_type": "markdown",
   "metadata": {},
   "source": [
    "Multiplication Table\n"
   ]
  },
  {
   "cell_type": "code",
   "execution_count": 5,
   "metadata": {},
   "outputs": [
    {
     "name": "stdout",
     "output_type": "stream",
     "text": [
      "20 x 0 = 0\n",
      "20 x 1 = 20\n",
      "20 x 2 = 40\n",
      "20 x 3 = 60\n",
      "20 x 4 = 80\n",
      "20 x 5 = 100\n",
      "20 x 6 = 120\n",
      "20 x 7 = 140\n",
      "20 x 8 = 160\n",
      "20 x 9 = 180\n",
      "20 x 10 = 200\n"
     ]
    }
   ],
   "source": [
    "num = int(input(\"Enter the number for which you wish to generate the multiplication table\"))\n",
    "for i in range(0,11):\n",
    "    print(num,\"x\",i,\"=\",num*i)"
   ]
  },
  {
   "cell_type": "code",
   "execution_count": 9,
   "metadata": {},
   "outputs": [
    {
     "name": "stdout",
     "output_type": "stream",
     "text": [
      "0\n",
      "2\n",
      "4\n",
      "6\n",
      "8\n",
      "10\n",
      "12\n",
      "14\n",
      "16\n",
      "18\n",
      "20\n",
      "22\n",
      "24\n",
      "26\n",
      "28\n",
      "30\n",
      "32\n",
      "34\n",
      "36\n",
      "38\n",
      "40\n",
      "42\n",
      "44\n",
      "46\n",
      "48\n",
      "50\n"
     ]
    }
   ],
   "source": [
    "num = int(input(\"enter the max number\"))\n",
    "i= 0 \n",
    "while i <= num:\n",
    "    if i%2 ==0:\n",
    "        print(i)\n",
    "    i = i + 1 "
   ]
  },
  {
   "cell_type": "code",
   "execution_count": 10,
   "metadata": {},
   "outputs": [
    {
     "name": "stdout",
     "output_type": "stream",
     "text": [
      "W\n"
     ]
    }
   ],
   "source": [
    "str = \"Powerful Pyhton\"\n",
    "for i in str [2:3:1]:\n",
    "    print (f\"{i.upper()}\")"
   ]
  },
  {
   "cell_type": "markdown",
   "metadata": {},
   "source": [
    "LISTAS"
   ]
  },
  {
   "cell_type": "markdown",
   "metadata": {},
   "source": [
    "Permiten almacenar multiples valores en una misma variable\n"
   ]
  },
  {
   "cell_type": "code",
   "execution_count": 11,
   "metadata": {},
   "outputs": [
    {
     "name": "stdout",
     "output_type": "stream",
     "text": [
      "['Python', 'Ruby', 'Java']\n"
     ]
    }
   ],
   "source": [
    "courses = [\"Python\", \"Ruby\",\"Java\"]\n",
    "print (courses )"
   ]
  },
  {
   "cell_type": "markdown",
   "metadata": {},
   "source": [
    "Manipulando listas\n"
   ]
  },
  {
   "cell_type": "code",
   "execution_count": 18,
   "metadata": {},
   "outputs": [
    {
     "name": "stdout",
     "output_type": "stream",
     "text": [
      "['jhon', 'Sam', 'Barry']\n",
      "jhon\n",
      "Barry\n"
     ]
    }
   ],
   "source": [
    "names = [\"jhon\",\"Sam\",\"Barry\"]\n",
    "print(names)\n",
    "print (names[0])\n",
    "print(names[2])"
   ]
  },
  {
   "cell_type": "code",
   "execution_count": 19,
   "metadata": {},
   "outputs": [
    {
     "name": "stdout",
     "output_type": "stream",
     "text": [
      "['jhon', 'Sam', 'Barry']\n",
      "['Sam', 'Barry']\n",
      "['Barry']\n"
     ]
    }
   ],
   "source": [
    "names = [\"jhon\",\"Sam\",\"Barry\"]\n",
    "print(names)\n",
    "print (names[1:3])\n",
    "print(names[2:])"
   ]
  },
  {
   "cell_type": "markdown",
   "metadata": {},
   "source": [
    "Actualizar una lista"
   ]
  },
  {
   "cell_type": "markdown",
   "metadata": {},
   "source": [
    "Para actualizar la lista seleccionamos con el index el dato deseado y asignamos nuevamente el valor deseado."
   ]
  },
  {
   "cell_type": "code",
   "execution_count": 22,
   "metadata": {},
   "outputs": [
    {
     "name": "stdout",
     "output_type": "stream",
     "text": [
      "[56, 76, 69, 71, 39]\n",
      "[56, 76, 69, 71, 43]\n"
     ]
    }
   ],
   "source": [
    "marks = [56,76,69,71,39]\n",
    "print (marks)\n",
    "marks[4]=43\n",
    "print (marks)"
   ]
  },
  {
   "cell_type": "markdown",
   "metadata": {},
   "source": [
    "Deleting"
   ]
  },
  {
   "cell_type": "code",
   "execution_count": 24,
   "metadata": {},
   "outputs": [
    {
     "name": "stdout",
     "output_type": "stream",
     "text": [
      "['jhon', 'Sam', 'Barry', 'Ivi']\n",
      "['Sam', 'Barry', 'Ivi']\n"
     ]
    }
   ],
   "source": [
    "names = [\"jhon\",\"Sam\",\"Barry\",\"Ivi\"]\n",
    "print (names)\n",
    "del names[0]\n",
<<<<<<< HEAD
    "print (names)"
=======
    "print (names)\n",
    "# Añadiendo algo nuevo"
   ]
  },
  {
   "cell_type": "markdown",
   "metadata": {},
   "source": [
    "Probe el nuevo GIT\n"
   ]
  },
  {
   "cell_type": "code",
   "execution_count": null,
   "metadata": {},
   "outputs": [],
   "source": [
    "x = 20"
>>>>>>> 1e9a5bd96777756b1836d17a3d51d467dcf9b949
   ]
  },
  {
   "cell_type": "markdown",
   "metadata": {},
   "source": [
    "Basic Operations\n"
   ]
  },
  {
   "cell_type": "markdown",
   "metadata": {},
   "source": [
    "Concatenar; Repeticiones\n"
   ]
  },
  {
   "cell_type": "code",
   "execution_count": 25,
   "metadata": {},
   "outputs": [
    {
     "name": "stdout",
     "output_type": "stream",
     "text": [
      "[1, 2, 3, 4, 5, 6]\n",
      "[1, 2, 3, 1, 2, 3, 1, 2, 3]\n"
     ]
    }
   ],
   "source": [
    "lst1=[1,2,3]\n",
    "lst2=[4,5,6]\n",
    "print(lst1+lst2)\n",
    "print(lst1*3)"
   ]
  },
  {
   "cell_type": "code",
   "execution_count": 26,
   "metadata": {},
   "outputs": [
    {
     "data": {
      "text/plain": [
       "['Pythonx', 'Pythonx']"
      ]
     },
     "execution_count": 26,
     "metadata": {},
     "output_type": "execute_result"
    }
   ],
   "source": [
    "[\"Pythonx\"]*2"
   ]
  },
  {
   "cell_type": "code",
   "execution_count": 27,
   "metadata": {},
   "outputs": [
    {
     "name": "stdout",
     "output_type": "stream",
     "text": [
      "True\n",
      "False\n"
     ]
    }
   ],
   "source": [
    "# Membership operator in\n",
    "enrolledlist = [\"Sam\",\"Mike\",\"Kane\",\"Nick\"]\n",
    "print(\"Sam\" in enrolledlist)\n",
    "print(\"Samuel\" in enrolledlist)"
   ]
  },
  {
   "cell_type": "code",
   "execution_count": 43,
   "metadata": {},
   "outputs": [
    {
     "name": "stdout",
     "output_type": "stream",
     "text": [
      "all ok\n"
     ]
    }
   ],
   "source": [
    "eurC = [\"France\",\"Peru\",\"Spain\",\"Germany\",\"Chile\"]\n",
    "del eurC [1]\n",
    "if (\"1\" in eurC):\n",
    "    print(\"wrong countrie inside the list\")\n",
    "else:\n",
    "        print(\"all ok\")"
   ]
  },
  {
   "cell_type": "markdown",
   "metadata": {},
   "source": [
    "Iteraciones con Listas"
   ]
  },
  {
   "cell_type": "code",
   "execution_count": 47,
   "metadata": {},
   "outputs": [
    {
     "name": "stdout",
     "output_type": "stream",
     "text": [
      "apple\n",
      "Mango\n",
      "Cherry\n",
      "Banana\n"
     ]
    }
   ],
   "source": [
    "fruits = [\"apple\",\"Mango\",\"Cherry\",\"Banana\"]\n",
    "for i in fruits:\n",
    "    print(i)"
   ]
  },
  {
   "cell_type": "code",
   "execution_count": 50,
   "metadata": {},
   "outputs": [
    {
     "name": "stdout",
     "output_type": "stream",
     "text": [
      "Mango found\n"
     ]
    }
   ],
   "source": [
    "fruits = [\"apple\",\"Mango\",\"Cherry\",\"Banana\"]\n",
    "for i in fruits:\n",
    "    if i == \"Mango\":\n",
    "        print(\"Mango found\")\n",
    "        break\n",
    "else:\n",
    "        print (\"Mango not found\")"
   ]
  },
  {
   "cell_type": "code",
   "execution_count": 51,
   "metadata": {},
   "outputs": [
    {
     "name": "stdout",
     "output_type": "stream",
     "text": [
      "France\n",
      "Spain\n"
     ]
    }
   ],
   "source": [
    "eurC = [\"Ireland\",\"Finland\",\"France\",\"Iceland\",\"Poland\",\"Spain\"]\n",
    "for country in eurC:\n",
    "    if \"land\" not in country:\n",
    "        print(country) "
   ]
  },
  {
   "cell_type": "markdown",
   "metadata": {},
   "source": [
    "Lists Functions:"
   ]
  },
  {
   "cell_type": "markdown",
   "metadata": {},
   "source": [
    "len(list): Devuelve el largo de la lista\n",
    "min(list): Devuelve el valor minimo de la lista\n",
    "max(list): Devuelve el valor maximo de la lista\n"
   ]
  },
  {
   "cell_type": "code",
   "execution_count": 1,
   "metadata": {},
   "outputs": [
    {
     "name": "stdout",
     "output_type": "stream",
     "text": [
      "6\n",
      "13\n",
      "98\n"
     ]
    }
   ],
   "source": [
    "numbers = [23,56,78,13,98,33]\n",
    "print(len(numbers))\n",
    "print(min(numbers))\n",
    "print(max(numbers))"
   ]
  },
  {
   "cell_type": "markdown",
   "metadata": {},
   "source": [
    "Metodos de lista: \n",
    "list.method()\n",
    "\n",
    "append(element): agrega un elemento a la lista al final.\n",
    "insert(index,element): \n",
    "pop(): Remueve y regresa el ultimo elemento de la lista.\n",
    "remove(element): Remueve elementos especificos de la lista.\n",
    "reverse(): invierte el orden\n",
    "index(element): Retorna la posición del item marcado.\n",
    "count(element): Cuenta cuentas veces esta un elemento en la lista."
   ]
  },
  {
   "cell_type": "code",
   "execution_count": 2,
   "metadata": {},
   "outputs": [
    {
     "name": "stdout",
     "output_type": "stream",
     "text": [
      "['james', 'Sam', 'Nick']\n",
      "['james', 'Sam', 'Nick', 'Barry']\n"
     ]
    }
   ],
   "source": [
    "names = [\"james\",\"Sam\",\"Nick\"]\n",
    "print(names)\n",
    "names.append(\"Barry\")\n",
    "print(names)"
   ]
  },
  {
   "cell_type": "code",
   "execution_count": 5,
   "metadata": {},
   "outputs": [
    {
     "name": "stdout",
     "output_type": "stream",
     "text": [
      "['james', 'Sam', 'Nick']\n",
      "['james', 'Sam', 'Nick', 'Barry']\n",
      "['james', 'Ron', 'Sam', 'Nick', 'Barry']\n"
     ]
    }
   ],
   "source": [
    "names = [\"james\",\"Sam\",\"Nick\"]\n",
    "print(names)\n",
    "names.append(\"Barry\")\n",
    "print(names)\n",
    "names.insert(1,\"Ron\")\n",
    "print(names)"
   ]
  },
  {
   "cell_type": "code",
   "execution_count": 6,
   "metadata": {},
   "outputs": [
    {
     "name": "stdout",
     "output_type": "stream",
     "text": [
      "['james', 'Sam', 'Nick']\n",
      "['james', 'Sam', 'Nick', 'Barry']\n",
      "['james', 'Ron', 'Sam', 'Nick', 'Barry']\n",
      "['james', 'Ron', 'Sam', 'Barry']\n"
     ]
    }
   ],
   "source": [
    "names = [\"james\",\"Sam\",\"Nick\"]\n",
    "print(names)\n",
    "names.append(\"Barry\")\n",
    "print(names)\n",
    "names.insert(1,\"Ron\")\n",
    "print(names)\n",
    "names.remove(\"Nick\")\n",
    "print(names)"
   ]
  },
  {
   "cell_type": "code",
   "execution_count": 7,
   "metadata": {},
   "outputs": [
    {
     "name": "stdout",
     "output_type": "stream",
     "text": [
      "2\n"
     ]
    }
   ],
   "source": [
    "age = [18,67,35,23,18,22]\n",
    "print(age.count(18))"
   ]
  },
  {
   "cell_type": "markdown",
   "metadata": {},
   "source": [
    "operaciones con listas\n",
    "\n"
   ]
  },
  {
   "cell_type": "code",
   "execution_count": 1,
   "metadata": {},
   "outputs": [
    {
     "name": "stdout",
     "output_type": "stream",
     "text": [
      "6\n",
      "13\n",
      "98\n"
     ]
    }
   ],
   "source": [
    "numbers = [23,56,78,13,98,33]\n",
    "print(len(numbers))\n",
    "print(min(numbers))\n",
    "print(max(numbers))\n"
   ]
  },
  {
   "cell_type": "markdown",
   "metadata": {},
   "source": [
    "append(element)\n",
    "insert(index,element)\n",
    "pop() remueve y retorna el ultimo elemento de la lista\n",
    "Remove(elemente)Elimna el elemento de la lista\n",
    "reverse()reversa el orden de los items de la lista\n",
    "index(element)\n",
    "count(element)cuantas veces ocurre un elemento en la lista"
   ]
  },
  {
   "cell_type": "markdown",
   "metadata": {},
   "source": [
    "TUPLAS"
   ]
  },
  {
   "cell_type": "markdown",
   "metadata": {},
   "source": [
    "similares a listas sin embargo estas no pueden ser modificadas, se identifican por el uso de parentesis y comas para separa su contenido.\n",
    "tuples1=()\n",
    "tuple2=(1,5,4,3,9)\n",
    "suelen utiizara para data que no es heterogenea mientras que las listas se usan para data homogenea."
   ]
  },
  {
   "cell_type": "code",
   "execution_count": 2,
   "metadata": {},
   "outputs": [
    {
     "name": "stdout",
     "output_type": "stream",
     "text": [
      "(1951, 1985, 1998, 1976)\n"
     ]
    }
   ],
   "source": [
    "employees=(1951,1985,1998,1976)\n",
    "print(employees)"
   ]
  },
  {
   "cell_type": "code",
   "execution_count": 3,
   "metadata": {},
   "outputs": [
    {
     "name": "stdout",
     "output_type": "stream",
     "text": [
      "('New york', 'London', 'Tokyo')\n"
     ]
    }
   ],
   "source": [
    "cities = (\"New york\",\"London\",\"Tokyo\")\n",
    "print(cities)"
   ]
  },
  {
   "cell_type": "markdown",
   "metadata": {},
   "source": [
    "Manipulando tuplas"
   ]
  },
  {
   "cell_type": "markdown",
   "metadata": {},
   "source": [
    "al ser secuencias de datos podemos manipularlas a través de un index."
   ]
  },
  {
   "cell_type": "code",
   "execution_count": 15,
   "metadata": {},
   "outputs": [
    {
     "name": "stdout",
     "output_type": "stream",
     "text": [
      "('Python', 'java', 'Ruby', 'Lisp')\n",
      "Python\n",
      "Ruby\n",
      "('java', 'Ruby', 'Lisp')\n"
     ]
    }
   ],
   "source": [
    "languages=(\"Python\",\"java\",\"Ruby\",\"Lisp\")\n",
    "print(languages)\n",
    "languages=(\"Python\",\"java\",\"Ruby\",\"Lisp\")\n",
    "print(languages[0])\n",
    "languages=(\"Python\",\"java\",\"Ruby\",\"Lisp\")\n",
    "print(languages[2])\n",
    "languages=(\"Python\",\"java\",\"Ruby\",\"Lisp\")\n",
    "print(languages[1:4])"
   ]
  },
  {
   "cell_type": "code",
   "execution_count": 17,
   "metadata": {},
   "outputs": [
    {
     "name": "stdout",
     "output_type": "stream",
     "text": [
      "USA\n"
     ]
    }
   ],
   "source": [
    "countries =(\"india\",\"USA\",\"japan\")\n",
    "print(countries[1])\n"
   ]
  },
  {
   "cell_type": "code",
   "execution_count": 18,
   "metadata": {},
   "outputs": [
    {
     "ename": "TypeError",
     "evalue": "'tuple' object does not support item assignment",
     "output_type": "error",
     "traceback": [
      "\u001b[1;31m---------------------------------------------------------------------------\u001b[0m",
      "\u001b[1;31mTypeError\u001b[0m                                 Traceback (most recent call last)",
      "\u001b[1;32mc:\\Users\\jarenas\\OneDrive - CAMARA DE COMERCIO DE BARRANQUILLA\\Escritorio\\Python\\Curso-de-PhytonX\\PythonX.ipynb Celda 95\u001b[0m in \u001b[0;36m<cell line: 2>\u001b[1;34m()\u001b[0m\n\u001b[0;32m      <a href='vscode-notebook-cell:/c%3A/Users/jarenas/OneDrive%20-%20CAMARA%20DE%20COMERCIO%20DE%20BARRANQUILLA/Escritorio/Python/Curso-de-PhytonX/PythonX.ipynb#Y165sZmlsZQ%3D%3D?line=0'>1</a>\u001b[0m tuple1\u001b[39m=\u001b[39m(\u001b[39m1\u001b[39m,\u001b[39m2\u001b[39m,\u001b[39m3\u001b[39m,\u001b[39m4\u001b[39m,\u001b[39m5\u001b[39m)\n\u001b[1;32m----> <a href='vscode-notebook-cell:/c%3A/Users/jarenas/OneDrive%20-%20CAMARA%20DE%20COMERCIO%20DE%20BARRANQUILLA/Escritorio/Python/Curso-de-PhytonX/PythonX.ipynb#Y165sZmlsZQ%3D%3D?line=1'>2</a>\u001b[0m tuple1[\u001b[39m3\u001b[39;49m]\u001b[39m=\u001b[39m\u001b[39m5\u001b[39m\n\u001b[0;32m      <a href='vscode-notebook-cell:/c%3A/Users/jarenas/OneDrive%20-%20CAMARA%20DE%20COMERCIO%20DE%20BARRANQUILLA/Escritorio/Python/Curso-de-PhytonX/PythonX.ipynb#Y165sZmlsZQ%3D%3D?line=2'>3</a>\u001b[0m \u001b[39mprint\u001b[39m(tuple1)\n",
      "\u001b[1;31mTypeError\u001b[0m: 'tuple' object does not support item assignment"
     ]
    }
   ],
   "source": [
    "tuple1=(1,2,3,4,5)\n",
    "tuple1[3]=5\n",
    "print(tuple1)"
   ]
  },
  {
   "cell_type": "code",
   "execution_count": 19,
   "metadata": {},
   "outputs": [
    {
     "name": "stdout",
     "output_type": "stream",
     "text": [
      "(1, 2, 3, 4, 5)\n"
     ]
    }
   ],
   "source": [
    "tuple1=(1,2,3,4,5)\n",
    "print(tuple1)\n",
    "del tuple1"
   ]
  },
  {
   "cell_type": "markdown",
   "metadata": {},
   "source": [
    "Tuples Operations\n"
   ]
  },
  {
   "cell_type": "markdown",
   "metadata": {},
   "source": [
    "Concatenar - Repeticion - Membresia(Membership)"
   ]
  },
  {
   "cell_type": "code",
   "execution_count": 21,
   "metadata": {},
   "outputs": [
    {
     "name": "stdout",
     "output_type": "stream",
     "text": [
      "(1, 2, 3, 4, 5, 6)\n",
      "(1, 2, 3, 1, 2, 3, 1, 2, 3)\n"
     ]
    }
   ],
   "source": [
    "tuple1 = (1,2,3)\n",
    "tuple2 = (4,5,6)\n",
    "print(tuple1 + tuple2)\n",
    "print(tuple1*3)"
   ]
  },
  {
   "cell_type": "code",
   "execution_count": 23,
   "metadata": {},
   "outputs": [
    {
     "name": "stdout",
     "output_type": "stream",
     "text": [
      "True\n",
      "False\n"
     ]
    }
   ],
   "source": [
    "names = (\"Sam\",\"Mike\",\"Kane\",\"Nick\")\n",
    "print(\"Sam\" in names)\n",
    "print (\"Samuel\" in names )"
   ]
  },
  {
   "cell_type": "code",
   "execution_count": 24,
   "metadata": {},
   "outputs": [
    {
     "name": "stdout",
     "output_type": "stream",
     "text": [
      "London\n",
      "Tokyo\n",
      "New york\n"
     ]
    }
   ],
   "source": [
    "cities = (\"London\",\"Tokyo\",\"New york\")\n",
    "for city in cities:\n",
    "    print(city)"
   ]
  },
  {
   "cell_type": "markdown",
   "metadata": {},
   "source": [
    "Funciones de Tuplas"
   ]
  },
  {
   "cell_type": "markdown",
   "metadata": {},
   "source": [
    "len(tuple): Devuelve el largo de la lista\n",
    "min(tuple): Devuelve el valor minimo de la lista\n",
    "max(tuple): Devuelve el valor maximo de la lista\n"
   ]
  },
  {
   "cell_type": "code",
   "execution_count": 25,
   "metadata": {},
   "outputs": [
    {
     "name": "stdout",
     "output_type": "stream",
     "text": [
      "6\n",
      "3\n",
      "98\n"
     ]
    }
   ],
   "source": [
    "numbers = (3,56,78,13,98,33)\n",
    "print(len(numbers))\n",
    "print(min(numbers))\n",
    "print(max(numbers))\n"
   ]
  },
  {
   "cell_type": "markdown",
   "metadata": {},
   "source": [
    "Solo podemos aplicar metodos tales como :\n",
    "index(element) = posición en la tupla\n",
    "count(element) = Cuantas veces esta repetido"
   ]
  },
  {
   "cell_type": "code",
   "execution_count": 30,
   "metadata": {},
   "outputs": [
    {
     "name": "stdout",
     "output_type": "stream",
     "text": [
      "2\n",
      "1\n"
     ]
    }
   ],
   "source": [
    "numbers = (23,67,78,13,98,23)\n",
    "print(numbers.count(23))\n",
    "print(numbers.index(67))\n"
   ]
  },
  {
   "cell_type": "markdown",
   "metadata": {},
   "source": [
    "Ejemplo de todo\n"
   ]
  },
  {
   "cell_type": "markdown",
   "metadata": {},
   "source": []
  },
  {
   "cell_type": "code",
   "execution_count": 34,
   "metadata": {},
   "outputs": [
    {
     "name": "stdout",
     "output_type": "stream",
     "text": [
      "Tienes 27 años\n"
     ]
    }
   ],
   "source": [
    "from datetime import datetime\n",
    "\n",
    "\n",
    "start = int(input(\"Digita el año de tu nacimiento\"))\n",
    "date = (2022 - start)\n",
    "print(\"Tienes\", str(date), \"años\")"
   ]
  },
  {
   "cell_type": "markdown",
   "metadata": {},
   "source": [
    "11 Key Values PAIRS"
   ]
  },
  {
   "cell_type": "markdown",
   "metadata": {},
   "source": [
    "Dictionary: Keys are the words and the value are the meaning of the words\n",
    "No tienen un orden especifico, pueden cambiar.\n",
    "Cada item tiene un valor clave (Key)\n",
    "Cada Key es unico\n",
    "colon = (:)\n",
    "ejemplo:\n",
    "\n",
    "dict1 ={}\n",
    "dict2 ={1:\"John\",2:\"Sam\"}\n"
   ]
  },
  {
   "cell_type": "code",
   "execution_count": 3,
   "metadata": {},
   "outputs": [
    {
     "name": "stdout",
     "output_type": "stream",
     "text": [
      "{'jhon': 'Python', 'Sam': 'Java', 'Nick': ['Python', 'JavaScript']}\n"
     ]
    }
   ],
   "source": [
    "studentsenrolled={\n",
    "    \"jhon\":\"Python\",\n",
    "    \"Sam\":\"Java\",\n",
    "    \"Nick\":[\"Python\",\"JavaScript\"],\n",
    "    }\n",
    "print(studentsenrolled)"
   ]
  },
  {
   "cell_type": "markdown",
   "metadata": {},
   "source": [
    "Manipulating"
   ]
  },
  {
   "cell_type": "markdown",
   "metadata": {},
   "source": [
    "El concepto de indexación no se puede utilizar\n",
    "POdemos usar dos metodos Key [] - KeyError or get() None\n",
    "\n"
   ]
  },
  {
   "cell_type": "code",
   "execution_count": 4,
   "metadata": {},
   "outputs": [
    {
     "name": "stdout",
     "output_type": "stream",
     "text": [
      "Jhon\n",
      "Nick\n"
     ]
    }
   ],
   "source": [
    "example ={1:\"Jhon\",2:\"Nick\"}\n",
    "print(example[1])\n",
    "print(example.get(2))"
   ]
  },
  {
   "cell_type": "markdown",
   "metadata": {},
   "source": [
    "Actualizando diccionarios\n"
   ]
  },
  {
   "cell_type": "code",
   "execution_count": 5,
   "metadata": {},
   "outputs": [
    {
     "name": "stdout",
     "output_type": "stream",
     "text": [
      "{1: 'Den', 2: 'Nick', 3: 'Sim'}\n"
     ]
    }
   ],
   "source": [
    "example ={1:\"Jhon\",2:\"Nick\"}\n",
    "example[1]=\"Den\"\n",
    "example[3]=\"Sim\"\n",
    "print(example)\n"
   ]
  },
  {
   "cell_type": "code",
   "execution_count": 6,
   "metadata": {},
   "outputs": [
    {
     "name": "stdout",
     "output_type": "stream",
     "text": [
      "{2: 'Nick', 3: 'Sim'}\n"
     ]
    }
   ],
   "source": [
    "example ={1:\"Jhon\",2:\"Nick\"}\n",
    "del example[1]\n",
    "example[3]=\"Sim\"\n",
    "print(example)"
   ]
  },
  {
   "cell_type": "code",
   "execution_count": 7,
   "metadata": {},
   "outputs": [
    {
     "name": "stdout",
     "output_type": "stream",
     "text": [
      "{'Programming': 'Python', 'Communicatión': 'French'}\n"
     ]
    }
   ],
   "source": [
    "dict1={\"Programming\":\"Python\",\"Communicatión\":\"English\",}\n",
    "dict1[\"Communicatión\"]=\"French\"\n",
    "print(dict1)"
   ]
  },
  {
   "cell_type": "code",
   "execution_count": 8,
   "metadata": {},
   "outputs": [
    {
     "name": "stdout",
     "output_type": "stream",
     "text": [
      "{1: 'One', 3: 'Three'}\n"
     ]
    }
   ],
   "source": [
    "dict1={1:\"One\",2:\"Two\",3:\"Three\"}\n",
    "del dict1[2]\n",
    "print (dict1)"
   ]
  },
  {
   "cell_type": "markdown",
   "metadata": {},
   "source": [
    "Functions"
   ]
  },
  {
   "cell_type": "markdown",
   "metadata": {},
   "source": [
    "Keys(): Listado de las llaves\n",
    "Values() listado de valores\n",
    "Clear(): Remueve los elementos del diccionario\n",
    "Get(keY): retorna el valor de una llave en especifico\n",
    "items(): retorna la lista de valores en forma de tuplas\n",
    "update(dict):Añadir"
   ]
  },
  {
   "cell_type": "code",
   "execution_count": 5,
   "metadata": {},
   "outputs": [
    {
     "name": "stdout",
     "output_type": "stream",
     "text": [
      "dict_keys([101, 102, 103])\n",
      "dict_values(['Bravo', 'Asten', 'Kerry'])\n",
      "dict_items([(101, 'Bravo'), (102, 'Asten'), (103, 'Kerry')])\n"
     ]
    }
   ],
   "source": [
    "empData={101:\"Bravo\",102:\"Asten\",103:\"Kerry\"}\n",
    "print(empData.keys())\n",
    "print(empData.values())\n",
    "print(empData.items())\n",
    "\n"
   ]
  },
  {
   "cell_type": "code",
   "execution_count": 7,
   "metadata": {},
   "outputs": [
    {
     "name": "stdout",
     "output_type": "stream",
     "text": [
      "{101: 'Bravo', 102: 'Peter', 103: 'Kerry', 104: 'Curan', 105: 'Elly'}\n"
     ]
    }
   ],
   "source": [
    "empData={101:\"Bravo\",102:\"Asten\",103:\"Kerry\"}\n",
    "empData.update({104:\"Curan\",105:\"Elly\"})\n",
    "empData.update({102:\"Peter\",105:\"Elly\"})\n",
    "print(empData)"
   ]
  },
  {
   "cell_type": "code",
   "execution_count": 11,
   "metadata": {},
   "outputs": [
    {
     "name": "stdout",
     "output_type": "stream",
     "text": [
      "{'Asia': ['india', 'China', 'Japan']}\n"
     ]
    }
   ],
   "source": [
    "varDict={\"Asia\":[\"india\",\"UEA\",\"China\"]}\n",
    "varDict[\"Asia\"].append(\"Japan\")\n",
    "varDict[\"Asia\"].remove(\"UEA\")\n",
    "print(varDict)"
   ]
  },
  {
   "cell_type": "code",
   "execution_count": 13,
   "metadata": {},
   "outputs": [
    {
     "name": "stdout",
     "output_type": "stream",
     "text": [
      "{'toppings': ['Onions', 'Mushrooms', 'Pepperoni']}\n"
     ]
    }
   ],
   "source": [
    "varDict={\"toppings\":[\"Onions\",\"Cucumbers\",\"Mushrooms\"]}\n",
    "varDict[\"toppings\"].remove(\"Cucumbers\")\n",
    "varDict[\"toppings\"].append(\"Pepperoni\")\n",
    "print(varDict)"
   ]
  },
  {
   "cell_type": "code",
   "execution_count": 14,
   "metadata": {},
   "outputs": [
    {
     "name": "stdout",
     "output_type": "stream",
     "text": [
      "{'toppings': ['Onions', 'Mushrooms', 'Pepperoni']}\n"
     ]
    }
   ],
   "source": [
    "varDict={\"toppings\":[\"Onions\",\"Cucumbers\",\"Mushrooms\"]}\n",
    "varDict.get(\"toppings\").remove(\"Cucumbers\")\n",
    "varDict[\"toppings\"].append(\"Pepperoni\")\n",
    "print(varDict)"
   ]
  },
  {
   "cell_type": "markdown",
   "metadata": {},
   "source": [
    "Iterating over Dictionaries"
   ]
  },
  {
   "cell_type": "code",
   "execution_count": 16,
   "metadata": {},
   "outputs": [
    {
     "name": "stdout",
     "output_type": "stream",
     "text": [
      "Bravo\n",
      "Sten\n"
     ]
    }
   ],
   "source": [
    "empData={101:\"Bravo\",102:\"Sten\"}\n",
    "for i in empData.values():\n",
    "    print(i)"
   ]
  },
  {
   "cell_type": "code",
   "execution_count": 17,
   "metadata": {},
   "outputs": [
    {
     "name": "stdout",
     "output_type": "stream",
     "text": [
      "101\n",
      "102\n"
     ]
    }
   ],
   "source": [
    "empData={101:\"Bravo\",102:\"Sten\"}\n",
    "for i in empData:\n",
    "    print(i)"
   ]
  },
  {
   "cell_type": "code",
   "execution_count": 19,
   "metadata": {},
   "outputs": [
    {
     "name": "stdout",
     "output_type": "stream",
     "text": [
      "(101, 'Bravo')\n",
      "(102, 'Sten')\n"
     ]
    }
   ],
   "source": [
    "empData={101:\"Bravo\",102:\"Sten\"}\n",
    "for i in empData.items():\n",
    "    print(i)"
   ]
  },
  {
   "cell_type": "code",
   "execution_count": 20,
   "metadata": {},
   "outputs": [
    {
     "name": "stdout",
     "output_type": "stream",
     "text": [
      "{'jhon': 'Wick', 'Harry': 'Hogwarts', 'Frodo': 'Baggins'}\n"
     ]
    }
   ],
   "source": [
    "data ={\n",
    "    \"jhon\":\"Wick\",\n",
    "    \"Harry\":\"Potter\",\n",
    "    \"Frodo\":\"Baggins\"\n",
    "}\n",
    "data[\"Harry\"]=\"Radcliffe\"\n",
    "data.update({\"Harry\":\"Hogwarts\"})\n",
    "print(data)"
   ]
  },
  {
   "cell_type": "markdown",
   "metadata": {},
   "source": [
    "SETS"
   ]
  },
  {
   "cell_type": "markdown",
   "metadata": {},
   "source": [
    "Conjuntos de datos como las tuplas o listas:\n",
    "son unicos significa que no se pueden dupliocar\n",
    "no existe la indexación.\n",
    "El conjunto se puede modificar pero los elementos dentro del conjunto deben ser elementos inmutables.\n",
    "se utilizan con el formato {}\n"
   ]
  },
  {
   "cell_type": "code",
   "execution_count": 1,
   "metadata": {},
   "outputs": [
    {
     "name": "stdout",
     "output_type": "stream",
     "text": [
      "<class 'set'>\n"
     ]
    }
   ],
   "source": [
    "data =set()\n",
    "print(type(data))"
   ]
  },
  {
   "cell_type": "code",
   "execution_count": 2,
   "metadata": {},
   "outputs": [
    {
     "name": "stdout",
     "output_type": "stream",
     "text": [
      "{1, 2, 3}\n",
      "{8, 9, 6, 'james'}\n"
     ]
    }
   ],
   "source": [
    "setOne = {1,2,3}\n",
    "setTwo = {6,8,9,\"james\"}\n",
    "print(setOne)\n",
    "print(setTwo)"
   ]
  },
  {
   "cell_type": "code",
   "execution_count": 1,
   "metadata": {},
   "outputs": [
    {
     "name": "stdout",
     "output_type": "stream",
     "text": [
      "{'Tuesday', 'Wednesdey', 'Saturday', 'Sunday', 'Thrusday', 'Monday', 'Friday'}\n"
     ]
    }
   ],
   "source": [
    "days={\"Monday\",\"Tuesday\",\"Wednesdey\",\"Thrusday\",\"Friday\",\"Saturday\",\"Sunday\"}\n",
    "print(days)"
   ]
  },
  {
   "cell_type": "code",
   "execution_count": 2,
   "metadata": {},
   "outputs": [
    {
     "name": "stdout",
     "output_type": "stream",
     "text": [
      "Tuesday\n",
      "Wednesdey\n",
      "Saturday\n",
      "Sunday\n",
      "Thrusday\n",
      "Monday\n",
      "Friday\n"
     ]
    }
   ],
   "source": [
    "days={\"Monday\",\"Tuesday\",\"Wednesdey\",\"Thrusday\",\"Friday\",\"Saturday\",\"Sunday\"}\n",
    "for day in days:\n",
    "    print(day)"
   ]
  },
  {
   "cell_type": "code",
   "execution_count": 3,
   "metadata": {},
   "outputs": [
    {
     "name": "stdout",
     "output_type": "stream",
     "text": [
      "G\n",
      "v\n",
      "I\n",
      "B\n"
     ]
    }
   ],
   "source": [
    "rainbowset = {\"v\",\"I\",\"B\",\"G\"}\n",
    "for color in rainbowset:\n",
    "    print(color)"
   ]
  },
  {
   "cell_type": "markdown",
   "metadata": {},
   "source": [
    "Operations between sets"
   ]
  },
  {
   "cell_type": "markdown",
   "metadata": {},
   "source": [
    "Poseemos la union de sets\n",
    "Interesecciónes\n",
    "diferencia de conjuntos\n"
   ]
  },
  {
   "cell_type": "code",
   "execution_count": 5,
   "metadata": {},
   "outputs": [
    {
     "name": "stdout",
     "output_type": "stream",
     "text": [
      "{1, 2, 3, 4, 5, 6, 7, 9, 10, 11}\n",
      "{1, 2, 3, 4, 5, 6, 7, 9, 10, 11}\n"
     ]
    }
   ],
   "source": [
    "# unión de los sets\n",
    "a = {1,2,3,4,5,6}\n",
    "b = {7,2,9,10,11}\n",
    "print(a|b)\n",
    "print(a.union(b))"
   ]
  },
  {
   "cell_type": "code",
   "execution_count": 6,
   "metadata": {},
   "outputs": [
    {
     "name": "stdout",
     "output_type": "stream",
     "text": [
      "{2}\n",
      "{2}\n"
     ]
    }
   ],
   "source": [
    "# intersectión de los sets\n",
    "a = {1,2,3,4,5,6}\n",
    "b = {7,2,9,10,11}\n",
    "print(a&b)\n",
    "print(a.intersection(b))"
   ]
  },
  {
   "cell_type": "code",
   "execution_count": 7,
   "metadata": {},
   "outputs": [
    {
     "name": "stdout",
     "output_type": "stream",
     "text": [
      "{1, 3, 4, 5, 6}\n",
      "{1, 3, 4, 5, 6}\n"
     ]
    }
   ],
   "source": [
    "# diferencia de los sets\n",
    "a = {1,2,3,4,5,6}\n",
    "b = {7,2,9,10,11}\n",
    "print(a-b)\n",
    "print(a.difference(b))"
   ]
  },
  {
   "cell_type": "markdown",
   "metadata": {},
   "source": [
    "len(): Devuelve el largo de la lista\n",
    "min(): Devuelve el valor minimo de la lista\n",
    "max(): Devuelve el valor maximo de la lista\n",
    "sorted(): Nuevo orden de los elementos de los sets\n",
    "sum(): suma todos los elementos del set\n"
   ]
  },
  {
   "cell_type": "code",
   "execution_count": 9,
   "metadata": {},
   "outputs": [
    {
     "name": "stdout",
     "output_type": "stream",
     "text": [
      "7\n",
      "28\n",
      "22\n"
     ]
    }
   ],
   "source": [
    "age={23,22,24,25,26,27,28}\n",
    "print(len(age))\n",
    "print(max(age))\n",
    "print(min(age))"
   ]
  },
  {
   "cell_type": "markdown",
   "metadata": {},
   "source": [
    "Metodos de los SETS.\n"
   ]
  },
  {
   "cell_type": "markdown",
   "metadata": {},
   "source": [
    "add()\n",
    "intersection()\n",
    "clear() - Remueve todos lso elementos del set\n",
    "copy()\n",
    "difference()\n",
    "discard() - remueve un elemento del set si es miembro del mismo.\n",
    "isdisjoint() - retorna verdadero si dos sets tienen una intersección nula\n",
    "issubset() retorna verdadero si otro set esta dentro del set\n",
    "issuperset() retorna verdadero si el set contiene otro set.\n",
    "pop() - retorna y remueve un elemento del conjunto de forma arbitraria\n",
    "remove() - remueve un elemento del set\n",
    "union() - retorna la union de los sets en un conjunto nuevo\n",
    "update() - updates the set with the union of itself y otros.\n",
    "\n"
   ]
  },
  {
   "cell_type": "code",
   "execution_count": 10,
   "metadata": {},
   "outputs": [
    {
     "name": "stdout",
     "output_type": "stream",
     "text": [
      "{34, 36, 22, 23, 24, 41, 56}\n"
     ]
    }
   ],
   "source": [
    "age = {23,22,34,36,24,41}\n",
    "age.add(56)\n",
    "print (age)"
   ]
  },
  {
   "cell_type": "code",
   "execution_count": 11,
   "metadata": {},
   "outputs": [
    {
     "name": "stdout",
     "output_type": "stream",
     "text": [
      "{34, 36, 23, 24, 41}\n"
     ]
    }
   ],
   "source": [
    "age = {23,22,34,36,24,41}\n",
    "age.remove(22)\n",
    "print (age)"
   ]
  },
  {
   "cell_type": "code",
   "execution_count": 12,
   "metadata": {},
   "outputs": [
    {
     "name": "stdout",
     "output_type": "stream",
     "text": [
      "{36, 22, 23, 24, 41}\n"
     ]
    }
   ],
   "source": [
    "age = {23,22,34,36,24,41}\n",
    "age.pop()\n",
    "print (age)"
   ]
  },
  {
   "cell_type": "code",
   "execution_count": 13,
   "metadata": {},
   "outputs": [
    {
     "name": "stdout",
     "output_type": "stream",
     "text": [
      "True\n",
      "True\n"
     ]
    }
   ],
   "source": [
    "a = {1,2,3}\n",
    "b = {1,2,3,4,5}\n",
    "c = {100,101,102}\n",
    "print(a.issubset(b))\n",
    "print(b.issuperset(a))\n"
   ]
  },
  {
   "cell_type": "code",
   "execution_count": 15,
   "metadata": {},
   "outputs": [
    {
     "name": "stdout",
     "output_type": "stream",
     "text": [
      "False\n",
      "True\n"
     ]
    }
   ],
   "source": [
    "a = {1,2,3}\n",
    "b = {1,2,3,4,5}\n",
    "c = {100,101,102}\n",
    "print(a.isdisjoint(b))\n",
    "print(a.isdisjoint(c))"
   ]
  },
  {
   "cell_type": "code",
   "execution_count": 16,
   "metadata": {},
   "outputs": [
    {
     "name": "stdout",
     "output_type": "stream",
     "text": [
      "{'r', 'c', 's', 'b', 'i'}\n"
     ]
    }
   ],
   "source": [
    "bricsnations ={\"b\",\"r\",\"i\",\"c\",\"s\"}\n",
    "bricsnations.discard(\"z\")\n",
    "print(bricsnations)"
   ]
  },
  {
   "cell_type": "markdown",
   "metadata": {},
   "source": [
    "FUNCTIONS = FUNCIONES"
   ]
  },
  {
   "cell_type": "markdown",
   "metadata": {},
   "source": [
    "Permiten ahorrar tiempo y codigo a través de la agrupación de tareas similares y sean ejecutadas solo cuando sean requeridas."
   ]
  },
  {
   "cell_type": "code",
   "execution_count": 1,
   "metadata": {},
   "outputs": [
    {
     "name": "stdout",
     "output_type": "stream",
     "text": [
      "Addition is: 6\n"
     ]
    }
   ],
   "source": [
    "number1=int(input(\"Enter a number\"))\n",
    "number2=int(input(\"Enter another number\"))\n",
    "number3= number1+number2\n",
    "print(\"Addition is:\", number3)\n"
   ]
  },
  {
   "cell_type": "markdown",
   "metadata": {},
   "source": [
    "Estructura de la función"
   ]
  },
  {
   "cell_type": "markdown",
   "metadata": {},
   "source": [
    "def function_name(parameter1,parameter2)\n",
    "// block of code\n",
    "return statement\n",
    "\n",
    "Para llamar las funciones se utiliza la estructura\n",
    "\n",
    "function_name()\n",
    "# or\n",
    "function_name(parameter1,parameter2)"
   ]
  },
  {
   "cell_type": "code",
   "execution_count": 2,
   "metadata": {},
   "outputs": [
    {
     "name": "stdout",
     "output_type": "stream",
     "text": [
      "Hello\n"
     ]
    }
   ],
   "source": [
    "def sayhello():\n",
    "    print(\"Hello\")\n",
    "\n",
    "sayhello()"
   ]
  },
  {
   "cell_type": "code",
   "execution_count": 3,
   "metadata": {},
   "outputs": [
    {
     "name": "stdout",
     "output_type": "stream",
     "text": [
      "hello Jhon\n"
     ]
    }
   ],
   "source": [
    "def sayhello(name):\n",
    "    print(\"hello\",name)\n",
    "sayhello(\"Jhon\")"
   ]
  },
  {
   "cell_type": "code",
   "execution_count": 5,
   "metadata": {},
   "outputs": [
    {
     "name": "stdout",
     "output_type": "stream",
     "text": [
      "11\n"
     ]
    }
   ],
   "source": [
    "def addnumbers(num1,num2):\n",
    "    num3=num1 + num2\n",
    "    return num3\n",
    "print(addnumbers(5,6))"
   ]
  },
  {
   "cell_type": "markdown",
   "metadata": {},
   "source": [
    "Argumentos y parametros"
   ]
  },
  {
   "cell_type": "code",
   "execution_count": 7,
   "metadata": {},
   "outputs": [
    {
     "ename": "TypeError",
     "evalue": "sayhello() missing 1 required positional argument: 'name'",
     "output_type": "error",
     "traceback": [
      "\u001b[1;31m---------------------------------------------------------------------------\u001b[0m",
      "\u001b[1;31mTypeError\u001b[0m                                 Traceback (most recent call last)",
      "\u001b[1;32mc:\\Users\\jarenas\\OneDrive - CAMARA DE COMERCIO DE BARRANQUILLA\\Escritorio\\Python\\Curso-de-PhytonX\\PythonX.ipynb Celda 164\u001b[0m in \u001b[0;36m<cell line: 3>\u001b[1;34m()\u001b[0m\n\u001b[0;32m      <a href='vscode-notebook-cell:/c%3A/Users/jarenas/OneDrive%20-%20CAMARA%20DE%20COMERCIO%20DE%20BARRANQUILLA/Escritorio/Python/Curso-de-PhytonX/PythonX.ipynb#Y323sZmlsZQ%3D%3D?line=0'>1</a>\u001b[0m \u001b[39mdef\u001b[39;00m \u001b[39msayhello\u001b[39m(name):\n\u001b[0;32m      <a href='vscode-notebook-cell:/c%3A/Users/jarenas/OneDrive%20-%20CAMARA%20DE%20COMERCIO%20DE%20BARRANQUILLA/Escritorio/Python/Curso-de-PhytonX/PythonX.ipynb#Y323sZmlsZQ%3D%3D?line=1'>2</a>\u001b[0m     \u001b[39mprint\u001b[39m(\u001b[39m\"\u001b[39m\u001b[39mhello\u001b[39m\u001b[39m\"\u001b[39m,name)\n\u001b[1;32m----> <a href='vscode-notebook-cell:/c%3A/Users/jarenas/OneDrive%20-%20CAMARA%20DE%20COMERCIO%20DE%20BARRANQUILLA/Escritorio/Python/Curso-de-PhytonX/PythonX.ipynb#Y323sZmlsZQ%3D%3D?line=2'>3</a>\u001b[0m sayhello()\n",
      "\u001b[1;31mTypeError\u001b[0m: sayhello() missing 1 required positional argument: 'name'"
     ]
    }
   ],
   "source": [
    "def sayhello(name):\n",
    "    print(\"hello\",name)\n",
    "sayhello()"
   ]
  },
  {
   "cell_type": "code",
   "execution_count": 8,
   "metadata": {},
   "outputs": [
    {
     "name": "stdout",
     "output_type": "stream",
     "text": [
      "hello user\n"
     ]
    }
   ],
   "source": [
    "def sayhello(name=\"user\"):\n",
    "    print(\"hello\",name)\n",
    "    \n",
    "sayhello()"
   ]
  },
  {
   "cell_type": "markdown",
   "metadata": {},
   "source": [
    "Lamda Functións\n",
    "Son atajos que permite escribir y definir funciones en python, tambien son llamadas funcioens anonimas\n",
    "\n",
    "siguen la estructura lambda argumentes:expression\n",
    "\n",
    "Pueden tomar cualquier numero o argumento, pero solo pueden contener una sola experesión.\n",
    "Una expresión es una pieza de codigo que puede o no puede retornar un valor.\n",
    "Se encuentran restringidas a una sola función.\n",
    "Lambda Functions no usan el sistema return."
   ]
  },
  {
   "cell_type": "code",
   "execution_count": 2,
   "metadata": {},
   "outputs": [],
   "source": [
    "def add(num1,num2):\n",
    "    return num1+num2"
   ]
  },
  {
   "cell_type": "code",
   "execution_count": null,
   "metadata": {},
   "outputs": [],
   "source": [
    "lambda num1,num2 : num1 + num2\n",
    "   "
   ]
  },
  {
   "cell_type": "code",
   "execution_count": 3,
   "metadata": {},
   "outputs": [
    {
     "name": "stdout",
     "output_type": "stream",
     "text": [
      "11\n"
     ]
    }
   ],
   "source": [
    "# para llamar funciones de lambda\n",
    "\n",
    "add = lambda num1,num2 : num1 + num2\n",
    "print(add(5,6))"
   ]
  },
  {
   "cell_type": "markdown",
   "metadata": {},
   "source": [
    "SuperMarket Cashier"
   ]
  },
  {
   "cell_type": "markdown",
   "metadata": {},
   "source": [
    "First Project\n"
   ]
  },
  {
   "cell_type": "code",
   "execution_count": 1,
   "metadata": {},
   "outputs": [],
   "source": [
    "# Ingreso de productos \n",
    "def enterproducts():\n",
    "    buyingdata = {}\n",
    "    enterdetails = True\n",
    "    while enterdetails:\n",
    "        details = input(\"Press A to add a product and Q to quit:\")\n",
    "        if details ==\"A\":\n",
    "            product = input(\"Enter Product: \")\n",
    "            quantity = int(input(\"Enter Quantity: \"))\n",
    "            buyingdata.update({product:quantity})\n",
    "        elif details ==\"Q\":\n",
    "            enterdetails = False\n",
    "        else:\n",
    "            print(\"Please select a correc optión\")\n",
    "    return buyingdata"
   ]
  },
  {
   "cell_type": "code",
   "execution_count": 4,
   "metadata": {},
   "outputs": [],
   "source": [
    "# captura de precios\n",
    "def getprice(product,quantity):\n",
    "    pricedata = {\n",
    "        \"biscuit\":3,\n",
    "        \"Chicken\":5,\n",
    "        \"Egg\":1,\n",
    "        \"Fish\":3,\n",
    "        \"Coke\":2,\n",
    "        \"Bread\":2,\n",
    "        \"Apple\":3,\n",
    "        \"Onion\":3,\n",
    "    }\n",
    "    subtotal = pricedata[product]*quantity\n",
    "    print(product + \":$\" + str(pricedata[product]) + \"x\" + str(quantity) + \"=\" + str(subtotal))\n",
    "    return subtotal"
   ]
  },
  {
   "cell_type": "code",
<<<<<<< HEAD
   "execution_count": 1,
   "metadata": {},
   "outputs": [],
   "source": [
    "# Get Discount\n",
=======
   "execution_count": 2,
   "metadata": {},
   "outputs": [],
   "source": [
    "# Discount\n",
    "\n",
>>>>>>> 1e9a5bd96777756b1836d17a3d51d467dcf9b949
    "def getdiscount(billamount,membership):\n",
    "    discount = 0\n",
    "    if billamount >= 25:\n",
    "        if membership == \"Gold\":\n",
<<<<<<< HEAD
    "         billamount = billamount * 0.80\n",
    "         discount = 20\n",
    "        elif membership == \"Silver\":\n",
    "            billamount = billamount * 0.90\n",
    "            discount = 10\n",
    "        elif membership == \"Bronze\":\n",
    "            billamount = billamount * 0.95\n",
    "            discount = 15\n",
    "        print(str(discount)+ \" % off for\" + membership + \"\" \"\" + \" membership on total amount: $\" + str(billamount) )\n",
    "    else:\n",
    "        print(\"No discount on amount less than $ 25\")\n",
    "    return billamount"
   ]
  },
  {
   "cell_type": "code",
   "execution_count": null,
   "metadata": {},
   "outputs": [],
   "source": [
    "# Make bill\n",
    "def makebill(buyingdata,membership):\n",
    "    billammount = 0 \n",
    "    for key, Value in buyingdata.items():\n",
    "        billammount += getprice(key, value)\n",
    "    billammount = getdiscount(billamount, membership)\n",
    "    print(\"The discounted amount is $ \" + str(billammount))\n"
   ]
  },
  {
   "cell_type": "code",
   "execution_count": null,
   "metadata": {},
   "outputs": [],
   "source": [
    "buyingdata = enterproducts()\n",
    "membership = input(\"Enter customer Membership\")\n",
    "makebill(buyingdata,membership)\n",
=======
    "            billamount = billamount * 0.80\n",
    "            discount = 20\n",
    "        elif membership == \"Silver\":\n",
    "            billamount = billamount * 0.90\n",
    "            discount = 10 \n",
    "        elif membership == \"Bronze\":\n",
    "            billamount = billamount * 0.95\n",
    "            discount = 5\n",
    "        print(str(discount)+ \"% off for\" + membership + \" \"+ \"membership on total amount: $\"+ str(billamount))\n",
    "    else:\n",
    "        print(\"No discount on amount less than 25\")\n",
    "    return billamount\n",
>>>>>>> 1e9a5bd96777756b1836d17a3d51d467dcf9b949
    "\n"
   ]
  },
  {
   "cell_type": "code",
<<<<<<< HEAD
   "execution_count": 2,
   "metadata": {},
   "outputs": [
    {
     "ename": "NameError",
     "evalue": "name 'buyingdata' is not defined",
     "output_type": "error",
     "traceback": [
      "\u001b[1;31m---------------------------------------------------------------------------\u001b[0m",
      "\u001b[1;31mNameError\u001b[0m                                 Traceback (most recent call last)",
      "\u001b[1;32mc:\\Users\\jarenas\\OneDrive - CAMARA DE COMERCIO DE BARRANQUILLA\\Escritorio\\Python\\Curso-de-PhytonX\\PythonX.ipynb Celda 177\u001b[0m in \u001b[0;36m<cell line: 60>\u001b[1;34m()\u001b[0m\n\u001b[0;32m     <a href='vscode-notebook-cell:/c%3A/Users/jarenas/OneDrive%20-%20CAMARA%20DE%20COMERCIO%20DE%20BARRANQUILLA/Escritorio/Python/Curso-de-PhytonX/PythonX.ipynb#Y343sZmlsZQ%3D%3D?line=57'>58</a>\u001b[0m     buyingdata \u001b[39m=\u001b[39m enterproducts()\n\u001b[0;32m     <a href='vscode-notebook-cell:/c%3A/Users/jarenas/OneDrive%20-%20CAMARA%20DE%20COMERCIO%20DE%20BARRANQUILLA/Escritorio/Python/Curso-de-PhytonX/PythonX.ipynb#Y343sZmlsZQ%3D%3D?line=58'>59</a>\u001b[0m membership \u001b[39m=\u001b[39m \u001b[39minput\u001b[39m(\u001b[39m\"\u001b[39m\u001b[39mEnter customer Membership\u001b[39m\u001b[39m\"\u001b[39m)\n\u001b[1;32m---> <a href='vscode-notebook-cell:/c%3A/Users/jarenas/OneDrive%20-%20CAMARA%20DE%20COMERCIO%20DE%20BARRANQUILLA/Escritorio/Python/Curso-de-PhytonX/PythonX.ipynb#Y343sZmlsZQ%3D%3D?line=59'>60</a>\u001b[0m makebill(buyingdata,membership)\n",
      "\u001b[1;31mNameError\u001b[0m: name 'buyingdata' is not defined"
=======
   "execution_count": 3,
   "metadata": {},
   "outputs": [],
   "source": [
    "# Final Bill\n",
    "from multiprocessing.sharedctypes import Value\n",
    "\n",
    "\n",
    "def makebill(buyingdata, membership):\n",
    "    billamount = 0\n",
    "    for key, Value in buyingdata.items():\n",
    "        billamount += getprice(key, Value)\n",
    "    billamount = getdiscount(billamount,membership)\n",
    "    print(\"The discounted amount is $\"+ str(billamount))"
   ]
  },
  {
   "cell_type": "code",
   "execution_count": null,
   "metadata": {},
   "outputs": [],
   "source": [
    "# last\n",
    "buyingdata = enterproducts()\n",
    "membership = input(\"Enter customer membership\")\n",
    "makebill(buyingdata,membership)"
   ]
  },
  {
   "cell_type": "code",
   "execution_count": 6,
   "metadata": {},
   "outputs": [
    {
     "name": "stdout",
     "output_type": "stream",
     "text": [
      "Bread:$2x5=10\n",
      "Coke:$2x7=14\n",
      "Fish:$3x3=9\n",
      "Egg:$1x12=12\n",
      "10% off forSilver membership on total amount: $40.5\n",
      "The discounted amount is $40.5\n"
>>>>>>> 1e9a5bd96777756b1836d17a3d51d467dcf9b949
     ]
    }
   ],
   "source": [
<<<<<<< HEAD
=======
    "# TEST\n",
    "# Ingreso de productos \n",
>>>>>>> 1e9a5bd96777756b1836d17a3d51d467dcf9b949
    "def enterproducts():\n",
    "    buyingdata = {}\n",
    "    enterdetails = True\n",
    "    while enterdetails:\n",
    "        details = input(\"Press A to add a product and Q to quit:\")\n",
    "        if details ==\"A\":\n",
    "            product = input(\"Enter Product: \")\n",
    "            quantity = int(input(\"Enter Quantity: \"))\n",
    "            buyingdata.update({product:quantity})\n",
    "        elif details ==\"Q\":\n",
    "            enterdetails = False\n",
    "        else:\n",
<<<<<<< HEAD
    "            print(\"Please select a correc optión\")\n",
=======
    "            print(\"Please select a correct optión\")\n",
>>>>>>> 1e9a5bd96777756b1836d17a3d51d467dcf9b949
    "    return buyingdata\n",
    "\n",
    "    # captura de precios\n",
    "def getprice(product,quantity):\n",
    "    pricedata = {\n",
    "        \"biscuit\":3,\n",
    "        \"Chicken\":5,\n",
    "        \"Egg\":1,\n",
    "        \"Fish\":3,\n",
    "        \"Coke\":2,\n",
    "        \"Bread\":2,\n",
    "        \"Apple\":3,\n",
    "        \"Onion\":3,\n",
    "    }\n",
    "    subtotal = pricedata[product]*quantity\n",
    "    print(product + \":$\" + str(pricedata[product]) + \"x\" + str(quantity) + \"=\" + str(subtotal))\n",
    "    return subtotal\n",
    "\n",
<<<<<<< HEAD
    "    # Get Discount\n",
=======
    "    # Discount\n",
    "\n",
>>>>>>> 1e9a5bd96777756b1836d17a3d51d467dcf9b949
    "def getdiscount(billamount,membership):\n",
    "    discount = 0\n",
    "    if billamount >= 25:\n",
    "        if membership == \"Gold\":\n",
<<<<<<< HEAD
    "         billamount = billamount * 0.80\n",
    "         discount = 20\n",
    "        elif membership == \"Silver\":\n",
    "            billamount = billamount * 0.90\n",
    "            discount = 10\n",
    "        elif membership == \"Bronze\":\n",
    "            billamount = billamount * 0.95\n",
    "            discount = 15\n",
    "        print(str(discount)+ \" % off for\" + membership + \"\" \"\" + \" membership on total amount: $\" + str(billamount) )\n",
    "    else:\n",
    "        print(\"No discount on amount less than $ 25\")\n",
    "    return billamount\n",
    "\n",
    "    # Make bill\n",
    "def makebill(buyingdata,membership):\n",
    "    billammount = 0 \n",
    "    for key, Value in buyingdata.items():\n",
    "        billammount += getprice(key, value)\n",
    "    billammount = getdiscount(billamount, membership)\n",
    "    print(\"The discounted amount is $ \" + str(billammount))\n",
    "\n",
    "    buyingdata = enterproducts()\n",
    "membership = input(\"Enter customer Membership\")\n",
    "makebill(buyingdata,membership)\n"
=======
    "            billamount = billamount * 0.80\n",
    "            discount = 20\n",
    "        elif membership == \"Silver\":\n",
    "            billamount = billamount * 0.90\n",
    "            discount = 10 \n",
    "        elif membership == \"Bronze\":\n",
    "            billamount = billamount * 0.95\n",
    "            discount = 5\n",
    "        print(str(discount)+ \"% off for\" + membership + \" \"+ \"membership on total amount: $\"+ str(billamount))\n",
    "    else:\n",
    "        print(\"No discount on amount less than 25\")\n",
    "    return billamount\n",
    "\n",
    "# Final Bill\n",
    "from multiprocessing.sharedctypes import Value\n",
    "\n",
    "\n",
    "def makebill(buyingdata, membership):\n",
    "    billamount = 0\n",
    "    for key, Value in buyingdata.items():\n",
    "        billamount += getprice(key, Value)\n",
    "    billamount = getdiscount(billamount,membership)\n",
    "    print(\"The discounted amount is $\"+ str(billamount))\n",
    "\n",
    "# last\n",
    "buyingdata = enterproducts()\n",
    "membership = input(\"Enter customer membership\")\n",
    "makebill(buyingdata,membership)"
   ]
  },
  {
   "cell_type": "markdown",
   "metadata": {},
   "source": [
    "15 FILE HANDLING"
   ]
  },
  {
   "cell_type": "markdown",
   "metadata": {},
   "source": [
    "En algunas ocasiones debemos administrar la información y almacenarla en algun tipo de espacio especial.\n",
    "\n",
    "la estructura para trabajar un archivo en Python es: \n",
    "\n",
    "1. Opening the file\n",
    "2. Performing action\n",
    "3. Closing a file\n",
    "\n"
   ]
  },
  {
   "cell_type": "markdown",
   "metadata": {},
   "source": [
    "Apertura de archivos \n",
    "\n",
    "Estructura:\n",
    "\n",
    "file_object = open(file_name, acces_mode)\n",
    "\n",
    "En cuanto al metodo de acceso es necesario definir el tipo de acceso que queremos brindar el cual puede ser:\n",
    "\n",
    "-Read Mode\n",
    "-Write Mode\n",
    "-Append Mode\n",
    "\n",
    "Metodos:\n",
    "\n",
    "r: apertura en modo lectura se ubica al inicio\n",
    "rb: Apertura en modo binario se ubica al inicio\n",
    "r+: Apertura para lectura y escritura se ubica al inicio\n",
    "rb+: Apertura para lectura y escritura de binarios. se ubica al inicio\n",
    "\n",
    "Metodos W Sobrescribe la información:\n",
    "\n",
    "w: apertura en modo lectura se ubica al inicio ( creara un nuevo archivo si no existe)\n",
    "wb: Apertura en modo binario se ubica al inicio  ( creara un nuevo archivo si no existe)\n",
    "w+: Apertura para lectura y escritura se ubica al inicio ( creara un nuevo archivo si no existe) \n",
    "wb+: Apertura para lectura y escritura de binarios. se ubica al inicio( creara un nuevo archivo si no existe) \n",
    "\n",
    "Metodo Append\n",
    "\n",
    "a: apertura en modo lectura se ubica al final \n",
    "ab: Apertura en modo binario se ubica al final\n",
    "a+: Apertura para lectura y escritura se ubica al final\n",
    "ab+: Apertura para lectura y escritura de binarios. se ubica al final\n",
    "\n"
>>>>>>> 1e9a5bd96777756b1836d17a3d51d467dcf9b949
   ]
  },
  {
   "cell_type": "code",
<<<<<<< HEAD
   "execution_count": 17,
=======
   "execution_count": 6,
   "metadata": {},
   "outputs": [],
   "source": [
    "# read mode:\n",
    "fp = open(\"python.txt\",\"r\")"
   ]
  },
  {
   "cell_type": "markdown",
   "metadata": {},
   "source": [
    "Metodos de lectura\n",
    "\n",
    "read(): lee una oración de un archivo lo lee hasta que alcance el final.\n",
    "read(size): hasta que alcance el tamaño estimado\n",
    "readline(): lee una linea individual\n",
    "raeadlines(): lee todas las lineas hasta que alcanza el final."
   ]
  },
  {
   "cell_type": "code",
   "execution_count": 7,
>>>>>>> 1e9a5bd96777756b1836d17a3d51d467dcf9b949
   "metadata": {},
   "outputs": [
    {
     "name": "stdout",
     "output_type": "stream",
     "text": [
<<<<<<< HEAD
      "Tu nombre es Juan  Arenas y tu altura es de 192 CM\n",
      "Thanks\n"
=======
      "Python is a generar-purpose, high level,object-orietende programmin language.\n",
      "we all love python\n"
>>>>>>> 1e9a5bd96777756b1836d17a3d51d467dcf9b949
     ]
    }
   ],
   "source": [
<<<<<<< HEAD
    "#  User Profile\n",
    "def user():\n",
    "    userinfo = {}\n",
    "    enteruserinfo = True\n",
    "    while enteruserinfo:\n",
    "        userdetails = input(\"Press A to add a user or press Q to quit\")\n",
    "        if userdetails == \"A\":\n",
    "            age = int(input(\"Digita tu año de nacimiento\"))\n",
    "            height = int(input(\"Digita tu altura\"))\n",
    "            name = input(\"Whats your name\")\n",
    "            lastname = input(\"Whats your last name\")\n",
    "            print(\"Tu nombre es\" + \" \" + str(name) + \" \" + str(lastname) + \" y tu altura es de \" + str(height) + \" CM\")\n",
    "        elif userdetails ==  \"Q\":\n",
    "            enteruserinfo = False\n",
    "    print(\"Thanks\")\n",
    "\n",
    "\n",
    "userinfo = user()"
=======
    "# read mode:\n",
    "fp = open(\"python.txt\",\"r\")\n",
    "print(fp.read())"
   ]
  },
  {
   "cell_type": "code",
   "execution_count": 8,
   "metadata": {},
   "outputs": [
    {
     "name": "stdout",
     "output_type": "stream",
     "text": [
      "Python\n"
     ]
    }
   ],
   "source": [
    "# read mode:\n",
    "fp = open(\"python.txt\",\"r\")\n",
    "print(fp.read(6))"
   ]
  },
  {
   "cell_type": "code",
   "execution_count": 9,
   "metadata": {},
   "outputs": [
    {
     "name": "stdout",
     "output_type": "stream",
     "text": [
      "Python is a generar-purpose, high level,object-orietende programmin language.\n",
      "\n"
     ]
    }
   ],
   "source": [
    "# read mode:\n",
    "fp = open(\"python.txt\",\"r\")\n",
    "print(fp.readline())"
   ]
  },
  {
   "cell_type": "code",
   "execution_count": 10,
   "metadata": {},
   "outputs": [
    {
     "name": "stdout",
     "output_type": "stream",
     "text": [
      "['Python is a generar-purpose, high level,object-orietende programmin language.\\n', 'we all love python']\n"
     ]
    }
   ],
   "source": [
    "# read mode:\n",
    "fp = open(\"python.txt\",\"r\")\n",
    "print(fp.readlines())"
   ]
  },
  {
   "cell_type": "code",
   "execution_count": 5,
   "metadata": {},
   "outputs": [
    {
     "data": {
      "text/plain": [
       "19"
      ]
     },
     "execution_count": 5,
     "metadata": {},
     "output_type": "execute_result"
    }
   ],
   "source": [
    "# write mode:\n",
    "fp = open(\"python.txt\",\"w\")\n",
    "fp.write(\"PythonX is the Best\")"
   ]
  },
  {
   "cell_type": "code",
   "execution_count": 9,
   "metadata": {},
   "outputs": [
    {
     "name": "stdout",
     "output_type": "stream",
     "text": [
      "<_io.TextIOWrapper name='python.txt' mode='a' encoding='cp1252'>\n"
     ]
    }
   ],
   "source": [
    "# append mode:\n",
    "fp = open(\"python.txt\",\"a\")\n",
    "fp.write(\"Pythonx is the best omg\")\n",
    "print(fp)"
   ]
  },
  {
   "cell_type": "code",
   "execution_count": 11,
   "metadata": {},
   "outputs": [
    {
     "name": "stdout",
     "output_type": "stream",
     "text": [
      "PythonX is the BestPythonx is the best omgPythonx is the best omgPythonx is the best omgPythonx is the best omg\n"
     ]
    },
    {
     "data": {
      "text/plain": [
       "<function TextIOWrapper.close()>"
      ]
     },
     "execution_count": 11,
     "metadata": {},
     "output_type": "execute_result"
    }
   ],
   "source": [
    "fp = open(\"python.txt\",\"r\")\n",
    "print(fp.read())\n",
    "fp.close"
   ]
  },
  {
   "cell_type": "markdown",
   "metadata": {},
   "source": [
    "Posición del puntero en un archivo\n"
   ]
  },
  {
   "cell_type": "markdown",
   "metadata": {},
   "source": [
    "Metodos Tell\n",
    "Metodos (seek, from)\n",
    "\n"
   ]
  },
  {
   "cell_type": "code",
   "execution_count": 13,
   "metadata": {},
   "outputs": [
    {
     "name": "stdout",
     "output_type": "stream",
     "text": [
      "Pointer possition is : 0\n",
      "PythonX is the BestPythonx is the best omgPythonx is the best omgPythonx is the best omgPythonx is the best omg\n",
      "Pointer posistion after reading is 111\n"
     ]
    }
   ],
   "source": [
    "fp = open(\"python.txt\",\"r\")\n",
    "print(\"Pointer possition is :\",fp.tell())\n",
    "print(fp.read())\n",
    "print(\"Pointer posistion after reading is\", fp.tell())\n",
    "\n"
   ]
  },
  {
   "cell_type": "code",
   "execution_count": 14,
   "metadata": {},
   "outputs": [
    {
     "name": "stdout",
     "output_type": "stream",
     "text": [
      "Pointer possition is : 0\n",
      "5\n",
      "Pointer posistion after reading is 5\n"
     ]
    }
   ],
   "source": [
    "fp = open(\"python.txt\",\"r\")\n",
    "print(\"Pointer possition is :\",fp.tell())\n",
    "print(fp.seek(5))\n",
    "print(\"Pointer posistion after reading is\", fp.tell())\n"
   ]
  },
  {
   "cell_type": "markdown",
   "metadata": {},
   "source": [
    "Exception Handling  \n",
    "\n"
   ]
  },
  {
   "cell_type": "markdown",
   "metadata": {},
   "source": [
    "Syntax\n",
    "Logic\n",
    "Runtime"
   ]
  },
  {
   "cell_type": "markdown",
   "metadata": {},
   "source": [
    "StandardError:\n",
    "ArithmeticError: errores numericos\n",
    "FloatingpointError: Cuando falla la operación de float\n",
    "ZerodivisionError: al dividir por cero\n",
    "EOFError: No imput\n",
    "importerror: cuando falla el import\n",
    "keyboardinterrupt: cuando se presiona CTRL+C\n",
    "indexerror: cuando no se encuentra en la sequencia\n",
    "NameError: no se encuentra un identificador\n",
    "IOerror: cuando falla una operación de entrada o salida\n",
    "Syntaxerror: cuando falla o hay un error en la sintaxis de python\n",
    "indentationError: cuando no se identifica la indexación\n",
    "typError: tipo de Data invalida\n",
    "ValueError: valid type of arguments but invalid values\n",
    "\n"
   ]
  },
  {
   "cell_type": "code",
   "execution_count": 1,
   "metadata": {},
   "outputs": [
    {
     "ename": "NameError",
     "evalue": "name 'name' is not defined",
     "output_type": "error",
     "traceback": [
      "\u001b[1;31m---------------------------------------------------------------------------\u001b[0m",
      "\u001b[1;31mNameError\u001b[0m                                 Traceback (most recent call last)",
      "Cell \u001b[1;32mIn [1], line 1\u001b[0m\n\u001b[1;32m----> 1\u001b[0m \u001b[38;5;28mprint\u001b[39m(\u001b[43mname\u001b[49m)\n",
      "\u001b[1;31mNameError\u001b[0m: name 'name' is not defined"
     ]
    }
   ],
   "source": [
    "print(name)"
   ]
  },
  {
   "cell_type": "code",
   "execution_count": 2,
   "metadata": {},
   "outputs": [
    {
     "name": "stdout",
     "output_type": "stream",
     "text": [
      "Some error ocurred. Please contact the developer\n"
     ]
    }
   ],
   "source": [
    "try:\n",
    "    print(name)\n",
    "except NameError:\n",
    "    print(\"Some error ocurred. Please contact the developer\")"
   ]
  },
  {
   "cell_type": "code",
   "execution_count": 3,
   "metadata": {},
   "outputs": [
    {
     "name": "stdout",
     "output_type": "stream",
     "text": [
      "Some error ocurred. Please contact the developer name 'name' is not defined\n"
     ]
    }
   ],
   "source": [
    "try:\n",
    "    print(name)\n",
    "except NameError as e:\n",
    "    print(\"Some error ocurred. Please contact the developer\",e)"
   ]
  },
  {
   "cell_type": "code",
   "execution_count": 4,
   "metadata": {},
   "outputs": [
    {
     "name": "stdout",
     "output_type": "stream",
     "text": [
      "PythonX\n"
     ]
    }
   ],
   "source": [
    "name =\"PythonX\"\n",
    "try:\n",
    "    print(name)\n",
    "except NameError as e:\n",
    "    print(\"Some error ocurred. Please contact the developer\",e)"
   ]
  },
  {
   "cell_type": "code",
   "execution_count": 8,
   "metadata": {},
   "outputs": [
    {
     "ename": "ValueError",
     "evalue": "invalid literal for int() with base 10: '4/0'",
     "output_type": "error",
     "traceback": [
      "\u001b[1;31m---------------------------------------------------------------------------\u001b[0m",
      "\u001b[1;31mValueError\u001b[0m                                Traceback (most recent call last)",
      "Cell \u001b[1;32mIn [8], line 1\u001b[0m\n\u001b[1;32m----> 1\u001b[0m number1 \u001b[38;5;241m=\u001b[39m\u001b[38;5;28;43mint\u001b[39;49m\u001b[43m(\u001b[49m\u001b[38;5;28;43minput\u001b[39;49m\u001b[43m(\u001b[49m\u001b[38;5;124;43m\"\u001b[39;49m\u001b[38;5;124;43mEnter first number\u001b[39;49m\u001b[38;5;124;43m\"\u001b[39;49m\u001b[43m)\u001b[49m\u001b[43m)\u001b[49m\n\u001b[0;32m      2\u001b[0m number2 \u001b[38;5;241m=\u001b[39m\u001b[38;5;28mint\u001b[39m(\u001b[38;5;28minput\u001b[39m(\u001b[38;5;124m\"\u001b[39m\u001b[38;5;124mEnter Second Number\u001b[39m\u001b[38;5;124m\"\u001b[39m))\n\u001b[0;32m      3\u001b[0m \u001b[38;5;28mprint\u001b[39m(\u001b[38;5;124m\"\u001b[39m\u001b[38;5;124mDivision is:\u001b[39m\u001b[38;5;124m\"\u001b[39m, number1\u001b[38;5;241m/\u001b[39mnumber2)\n",
      "\u001b[1;31mValueError\u001b[0m: invalid literal for int() with base 10: '4/0'"
     ]
    }
   ],
   "source": [
    "number1 =int(input(\"Enter first number\"))\n",
    "number2 =int(input(\"Enter Second Number\"))\n",
    "print(\"Division is:\", number1/number2)\n"
   ]
  },
  {
   "cell_type": "code",
   "execution_count": 11,
   "metadata": {},
   "outputs": [
    {
     "name": "stdout",
     "output_type": "stream",
     "text": [
      "Oops, you cannot divide a number by zero\n"
     ]
    }
   ],
   "source": [
    "try:\n",
    "    number1 =int(input(\"Enter first number\"))\n",
    "    number2 =int(input(\"Enter Second Number\"))\n",
    "    print(\"Division is:\", number1/number2)\n",
    "except Exception as e:\n",
    "    print(\"Oops, you cannot divide a number by zero\")"
>>>>>>> 1e9a5bd96777756b1836d17a3d51d467dcf9b949
   ]
  }
 ],
 "metadata": {
  "kernelspec": {
   "display_name": "Python 3.10.7 64-bit",
   "language": "python",
   "name": "python3"
  },
  "language_info": {
   "codemirror_mode": {
    "name": "ipython",
    "version": 3
   },
   "file_extension": ".py",
   "mimetype": "text/x-python",
   "name": "python",
   "nbconvert_exporter": "python",
   "pygments_lexer": "ipython3",
   "version": "3.10.7"
  },
  "orig_nbformat": 4,
  "vscode": {
   "interpreter": {
    "hash": "9d2f5cb04c8fe19ebbfb701abdba1e44835b06df74bc1b6319c773dedc79ab73"
   }
  }
 },
 "nbformat": 4,
 "nbformat_minor": 2
}
